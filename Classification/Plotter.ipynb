{
 "cells": [
  {
   "cell_type": "code",
   "execution_count": 2,
   "metadata": {},
   "outputs": [
    {
     "ename": "FileNotFoundError",
     "evalue": "[Errno 2] No such file or directory: 'path/to/markdown/file.md'",
     "output_type": "error",
     "traceback": [
      "\u001b[0;31m---------------------------------------------------------------------------\u001b[0m",
      "\u001b[0;31mFileNotFoundError\u001b[0m                         Traceback (most recent call last)",
      "\u001b[1;32m/Users/josemendes/Documents/FLAME_SCOUT/Classification/Plotter.ipynb Cell 1\u001b[0m line \u001b[0;36m6\n\u001b[1;32m     <a href='vscode-notebook-cell:/Users/josemendes/Documents/FLAME_SCOUT/Classification/Plotter.ipynb#W0sZmlsZQ%3D%3D?line=64'>65</a>\u001b[0m \u001b[39mif\u001b[39;00m \u001b[39m__name__\u001b[39m \u001b[39m==\u001b[39m \u001b[39m'\u001b[39m\u001b[39m__main__\u001b[39m\u001b[39m'\u001b[39m:\n\u001b[1;32m     <a href='vscode-notebook-cell:/Users/josemendes/Documents/FLAME_SCOUT/Classification/Plotter.ipynb#W0sZmlsZQ%3D%3D?line=65'>66</a>\u001b[0m     file_path \u001b[39m=\u001b[39m \u001b[39m'\u001b[39m\u001b[39mpath/to/markdown/file.md\u001b[39m\u001b[39m'\u001b[39m\n\u001b[0;32m---> <a href='vscode-notebook-cell:/Users/josemendes/Documents/FLAME_SCOUT/Classification/Plotter.ipynb#W0sZmlsZQ%3D%3D?line=66'>67</a>\u001b[0m     markdown_content \u001b[39m=\u001b[39m read_markdown_file(file_path)\n\u001b[1;32m     <a href='vscode-notebook-cell:/Users/josemendes/Documents/FLAME_SCOUT/Classification/Plotter.ipynb#W0sZmlsZQ%3D%3D?line=67'>68</a>\u001b[0m     epochs, train_loss, train_accuracy, val_loss, val_accuracy, test_accuracy \u001b[39m=\u001b[39m extract_data_from_markdown(markdown_content)\n\u001b[1;32m     <a href='vscode-notebook-cell:/Users/josemendes/Documents/FLAME_SCOUT/Classification/Plotter.ipynb#W0sZmlsZQ%3D%3D?line=68'>69</a>\u001b[0m     plot_comparison_graphs(epochs, train_loss, train_accuracy, val_loss, val_accuracy, test_accuracy)\n",
      "\u001b[1;32m/Users/josemendes/Documents/FLAME_SCOUT/Classification/Plotter.ipynb Cell 1\u001b[0m line \u001b[0;36m5\n\u001b[1;32m      <a href='vscode-notebook-cell:/Users/josemendes/Documents/FLAME_SCOUT/Classification/Plotter.ipynb#W0sZmlsZQ%3D%3D?line=3'>4</a>\u001b[0m \u001b[39mdef\u001b[39;00m \u001b[39mread_markdown_file\u001b[39m(file_path):\n\u001b[0;32m----> <a href='vscode-notebook-cell:/Users/josemendes/Documents/FLAME_SCOUT/Classification/Plotter.ipynb#W0sZmlsZQ%3D%3D?line=4'>5</a>\u001b[0m     \u001b[39mwith\u001b[39;00m \u001b[39mopen\u001b[39;49m(file_path, \u001b[39m'\u001b[39;49m\u001b[39mr\u001b[39;49m\u001b[39m'\u001b[39;49m) \u001b[39mas\u001b[39;00m file:\n\u001b[1;32m      <a href='vscode-notebook-cell:/Users/josemendes/Documents/FLAME_SCOUT/Classification/Plotter.ipynb#W0sZmlsZQ%3D%3D?line=5'>6</a>\u001b[0m         content \u001b[39m=\u001b[39m file\u001b[39m.\u001b[39mread()\n\u001b[1;32m      <a href='vscode-notebook-cell:/Users/josemendes/Documents/FLAME_SCOUT/Classification/Plotter.ipynb#W0sZmlsZQ%3D%3D?line=6'>7</a>\u001b[0m     \u001b[39mreturn\u001b[39;00m content\n",
      "File \u001b[0;32m~/anaconda3/lib/python3.10/site-packages/IPython/core/interactiveshell.py:282\u001b[0m, in \u001b[0;36m_modified_open\u001b[0;34m(file, *args, **kwargs)\u001b[0m\n\u001b[1;32m    275\u001b[0m \u001b[39mif\u001b[39;00m file \u001b[39min\u001b[39;00m {\u001b[39m0\u001b[39m, \u001b[39m1\u001b[39m, \u001b[39m2\u001b[39m}:\n\u001b[1;32m    276\u001b[0m     \u001b[39mraise\u001b[39;00m \u001b[39mValueError\u001b[39;00m(\n\u001b[1;32m    277\u001b[0m         \u001b[39mf\u001b[39m\u001b[39m\"\u001b[39m\u001b[39mIPython won\u001b[39m\u001b[39m'\u001b[39m\u001b[39mt let you open fd=\u001b[39m\u001b[39m{\u001b[39;00mfile\u001b[39m}\u001b[39;00m\u001b[39m by default \u001b[39m\u001b[39m\"\u001b[39m\n\u001b[1;32m    278\u001b[0m         \u001b[39m\"\u001b[39m\u001b[39mas it is likely to crash IPython. If you know what you are doing, \u001b[39m\u001b[39m\"\u001b[39m\n\u001b[1;32m    279\u001b[0m         \u001b[39m\"\u001b[39m\u001b[39myou can use builtins\u001b[39m\u001b[39m'\u001b[39m\u001b[39m open.\u001b[39m\u001b[39m\"\u001b[39m\n\u001b[1;32m    280\u001b[0m     )\n\u001b[0;32m--> 282\u001b[0m \u001b[39mreturn\u001b[39;00m io_open(file, \u001b[39m*\u001b[39;49margs, \u001b[39m*\u001b[39;49m\u001b[39m*\u001b[39;49mkwargs)\n",
      "\u001b[0;31mFileNotFoundError\u001b[0m: [Errno 2] No such file or directory: 'path/to/markdown/file.md'"
     ]
    }
   ],
   "source": [
    "import re\n",
    "import matplotlib.pyplot as plt\n",
    "\n",
    "def read_markdown_file(file_path):\n",
    "    with open(file_path, 'r') as file:\n",
    "        content = file.read()\n",
    "    return content\n",
    "\n",
    "def extract_data_from_markdown(content):\n",
    "    epochs = []\n",
    "    train_loss = []\n",
    "    train_accuracy = []\n",
    "    val_loss = []\n",
    "    val_accuracy = []\n",
    "    test_accuracy = []\n",
    "\n",
    "    pattern = re.compile(r'Epoch (\\d+) \\(\\d+:\\d+\\.\\d+\\)- Training Loss: (\\d+\\.\\d+) - Training Accuracy: (\\d+\\.\\d+)% - Validation Loss: (\\d+\\.\\d+) - Validation Accuracy: (\\d+\\.\\d+)% - Test Accuracy: (\\d+)/(\\d+) \\((\\d+\\.\\d+)%\\)')\n",
    "\n",
    "    matches = pattern.findall(content)\n",
    "\n",
    "    for match in matches:\n",
    "        epoch, t_loss, t_accuracy, v_loss, v_accuracy, test_correct, test_total, test_accuracy_percent = match\n",
    "        epochs.append(int(epoch))\n",
    "        train_loss.append(float(t_loss))\n",
    "        train_accuracy.append(float(t_accuracy))\n",
    "        val_loss.append(float(v_loss))\n",
    "        val_accuracy.append(float(v_accuracy))\n",
    "        test_accuracy.append(float(test_accuracy_percent))\n",
    "\n",
    "    return epochs, train_loss, train_accuracy, val_loss, val_accuracy, test_accuracy\n",
    "\n",
    "def plot_comparison_graphs(epochs, train_loss, train_accuracy, val_loss, val_accuracy, test_accuracy):\n",
    "    plt.figure(figsize=(15, 10))\n",
    "\n",
    "    # Validation Accuracy vs Training Accuracy\n",
    "    plt.subplot(2, 2, 1)\n",
    "    plt.plot(epochs, train_accuracy, label='Training Accuracy')\n",
    "    plt.plot(epochs, val_accuracy, label='Validation Accuracy')\n",
    "    plt.title('Training Accuracy vs Validation Accuracy')\n",
    "    plt.xlabel('Epoch')\n",
    "    plt.ylabel('Accuracy')\n",
    "    plt.legend()\n",
    "\n",
    "    # Training Loss vs Validation Loss\n",
    "    plt.subplot(2, 2, 2)\n",
    "    plt.plot(epochs, train_loss, label='Training Loss')\n",
    "    plt.plot(epochs, val_loss, label='Validation Loss')\n",
    "    plt.title('Training Loss vs Validation Loss')\n",
    "    plt.xlabel('Epoch')\n",
    "    plt.ylabel('Loss')\n",
    "    plt.legend()\n",
    "\n",
    "    # Test Accuracy vs Training Accuracy\n",
    "    plt.subplot(2, 2, 3)\n",
    "    plt.plot(epochs, train_accuracy, label='Training Accuracy')\n",
    "    plt.plot(epochs, test_accuracy, label='Test Accuracy')\n",
    "    plt.title('Training Accuracy vs Test Accuracy')\n",
    "    plt.xlabel('Epoch')\n",
    "    plt.ylabel('Accuracy')\n",
    "    plt.legend()\n",
    "\n",
    "    plt.tight_layout()\n",
    "    plt.show()\n",
    "\n",
    "if __name__ == '__main__':\n",
    "    file_path = 'Trained_Networks/Training-18-11-2023/README.md'\n",
    "    markdown_content = read_markdown_file(file_path)\n",
    "    epochs, train_loss, train_accuracy, val_loss, val_accuracy, test_accuracy = extract_data_from_markdown(markdown_content)\n",
    "    plot_comparison_graphs(epochs, train_loss, train_accuracy, val_loss, val_accuracy, test_accuracy)\n",
    "\n"
   ]
  }
 ],
 "metadata": {
  "kernelspec": {
   "display_name": "Python 3 (ipykernel)",
   "language": "python",
   "name": "python3"
  },
  "language_info": {
   "codemirror_mode": {
    "name": "ipython",
    "version": 3
   },
   "file_extension": ".py",
   "mimetype": "text/x-python",
   "name": "python",
   "nbconvert_exporter": "python",
   "pygments_lexer": "ipython3",
   "version": "3.9.12"
  }
 },
 "nbformat": 4,
 "nbformat_minor": 2
}
